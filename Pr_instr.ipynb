{
 "cells": [
  {
   "cell_type": "markdown",
   "metadata": {
    "toc": true
   },
   "source": [
    "<h1>Table of Contents<span class=\"tocSkip\"></span></h1>\n",
    "<div class=\"toc\"><ul class=\"toc-item\"><li><span><a href=\"#Импорт-данных\" data-toc-modified-id=\"Импорт-данных-1\"><span class=\"toc-item-num\">1&nbsp;&nbsp;</span>Импорт данных</a></span></li><li><span><a href=\"#Загрузка-данных\" data-toc-modified-id=\"Загрузка-данных-2\"><span class=\"toc-item-num\">2&nbsp;&nbsp;</span>Загрузка данных</a></span></li><li><span><a href=\"#Переменные-словарей\" data-toc-modified-id=\"Переменные-словарей-3\"><span class=\"toc-item-num\">3&nbsp;&nbsp;</span>Переменные словарей</a></span></li><li><span><a href=\"#Кодируем-целевой-столбец\" data-toc-modified-id=\"Кодируем-целевой-столбец-4\"><span class=\"toc-item-num\">4&nbsp;&nbsp;</span>Кодируем целевой столбец</a></span></li><li><span><a href=\"#Выделение-групп\" data-toc-modified-id=\"Выделение-групп-5\"><span class=\"toc-item-num\">5&nbsp;&nbsp;</span>Выделение групп</a></span></li><li><span><a href=\"#Параметр-фамилий\" data-toc-modified-id=\"Параметр-фамилий-6\"><span class=\"toc-item-num\">6&nbsp;&nbsp;</span>Параметр фамилий</a></span></li><li><span><a href=\"#Очистка-текста\" data-toc-modified-id=\"Очистка-текста-7\"><span class=\"toc-item-num\">7&nbsp;&nbsp;</span>Очистка текста</a></span></li><li><span><a href=\"#Преобразование-слов-в-векторы-признаков\" data-toc-modified-id=\"Преобразование-слов-в-векторы-признаков-8\"><span class=\"toc-item-num\">8&nbsp;&nbsp;</span>Преобразование слов в векторы признаков</a></span></li><li><span><a href=\"#Объеденение-данных-для-обучения\" data-toc-modified-id=\"Объеденение-данных-для-обучения-9\"><span class=\"toc-item-num\">9&nbsp;&nbsp;</span>Объеденение данных для обучения</a></span></li><li><span><a href=\"#Создание-модели-для-обучения\" data-toc-modified-id=\"Создание-модели-для-обучения-10\"><span class=\"toc-item-num\">10&nbsp;&nbsp;</span>Создание модели для обучения</a></span></li><li><span><a href=\"#Подготовка-данных\" data-toc-modified-id=\"Подготовка-данных-11\"><span class=\"toc-item-num\">11&nbsp;&nbsp;</span>Подготовка данных</a></span></li><li><span><a href=\"#Предсказание\" data-toc-modified-id=\"Предсказание-12\"><span class=\"toc-item-num\">12&nbsp;&nbsp;</span>Предсказание</a></span></li><li><span><a href=\"#Подгоотвка-выходных-данных\" data-toc-modified-id=\"Подгоотвка-выходных-данных-13\"><span class=\"toc-item-num\">13&nbsp;&nbsp;</span>Подгоотвка выходных данных</a></span></li><li><span><a href=\"#Сохранение-результата\" data-toc-modified-id=\"Сохранение-результата-14\"><span class=\"toc-item-num\">14&nbsp;&nbsp;</span>Сохранение результата</a></span></li></ul></div>"
   ]
  },
  {
   "cell_type": "markdown",
   "metadata": {},
   "source": [
    "# Обучение"
   ]
  },
  {
   "cell_type": "markdown",
   "metadata": {},
   "source": [
    "## Импорт данных"
   ]
  },
  {
   "cell_type": "code",
   "execution_count": 1,
   "metadata": {},
   "outputs": [],
   "source": [
    "import pandas as pd\n",
    "import xlrd"
   ]
  },
  {
   "cell_type": "markdown",
   "metadata": {},
   "source": [
    "## Загрузка данных"
   ]
  },
  {
   "cell_type": "code",
   "execution_count": 2,
   "metadata": {},
   "outputs": [
    {
     "data": {
      "text/html": [
       "<div>\n",
       "<style scoped>\n",
       "    .dataframe tbody tr th:only-of-type {\n",
       "        vertical-align: middle;\n",
       "    }\n",
       "\n",
       "    .dataframe tbody tr th {\n",
       "        vertical-align: top;\n",
       "    }\n",
       "\n",
       "    .dataframe thead th {\n",
       "        text-align: right;\n",
       "    }\n",
       "</style>\n",
       "<table border=\"1\" class=\"dataframe\">\n",
       "  <thead>\n",
       "    <tr style=\"text-align: right;\">\n",
       "      <th></th>\n",
       "      <th>PRED</th>\n",
       "      <th>NAIM</th>\n",
       "      <th>USN_CREATE</th>\n",
       "      <th>TIP_INSTR</th>\n",
       "    </tr>\n",
       "  </thead>\n",
       "  <tbody>\n",
       "    <tr>\n",
       "      <th>0</th>\n",
       "      <td>ЛМ2126-1969</td>\n",
       "      <td>Резец на канавку b=3; угол 45 град.;R0.5;R1</td>\n",
       "      <td>BOROVSKIH_VD</td>\n",
       "      <td>R</td>\n",
       "    </tr>\n",
       "    <tr>\n",
       "      <th>1</th>\n",
       "      <td>ЛМ2128-2055</td>\n",
       "      <td>Резец на канавку b=3; R1.6 и R0.5;угол 45 град.</td>\n",
       "      <td>BOROVSKIH_VD</td>\n",
       "      <td>R</td>\n",
       "    </tr>\n",
       "    <tr>\n",
       "      <th>2</th>\n",
       "      <td>ЛМ2128-2056</td>\n",
       "      <td>Резец на канавку b=5;R1,6 и R0,5</td>\n",
       "      <td>BOROVSKIH_VD</td>\n",
       "      <td>R</td>\n",
       "    </tr>\n",
       "    <tr>\n",
       "      <th>3</th>\n",
       "      <td>ЛМ6300-1395</td>\n",
       "      <td>Оправка расточная Ф85,5</td>\n",
       "      <td>BOROVSKIH_VD</td>\n",
       "      <td>R</td>\n",
       "    </tr>\n",
       "    <tr>\n",
       "      <th>4</th>\n",
       "      <td>ЛМ2223-1247</td>\n",
       "      <td>Фреза концевая Ф63</td>\n",
       "      <td>BOROVSKIH_VD</td>\n",
       "      <td>R</td>\n",
       "    </tr>\n",
       "  </tbody>\n",
       "</table>\n",
       "</div>"
      ],
      "text/plain": [
       "          PRED                                             NAIM    USN_CREATE  \\\n",
       "0  ЛМ2126-1969      Резец на канавку b=3; угол 45 град.;R0.5;R1  BOROVSKIH_VD   \n",
       "1  ЛМ2128-2055  Резец на канавку b=3; R1.6 и R0.5;угол 45 град.  BOROVSKIH_VD   \n",
       "2  ЛМ2128-2056                 Резец на канавку b=5;R1,6 и R0,5  BOROVSKIH_VD   \n",
       "3  ЛМ6300-1395                          Оправка расточная Ф85,5  BOROVSKIH_VD   \n",
       "4  ЛМ2223-1247                               Фреза концевая Ф63  BOROVSKIH_VD   \n",
       "\n",
       "  TIP_INSTR  \n",
       "0         R  \n",
       "1         R  \n",
       "2         R  \n",
       "3         R  \n",
       "4         R  "
      ]
     },
     "execution_count": 2,
     "metadata": {},
     "output_type": "execute_result"
    }
   ],
   "source": [
    "df = pd.read_excel('Номера схем.xlsx')\n",
    "df = df.loc[:,['PRED','NAIM','USN_CREATE','TIP_INSTR']]\n",
    "df1 = df\n",
    "df = df.dropna(subset=['TIP_INSTR'])\n",
    "df.head()"
   ]
  },
  {
   "cell_type": "markdown",
   "metadata": {},
   "source": [
    "## Переменные словарей"
   ]
  },
  {
   "cell_type": "code",
   "execution_count": 3,
   "metadata": {},
   "outputs": [],
   "source": [
    "TIP_INSTR_dikt = {r'R':0, r'СТО':1}\n",
    "TIP_INSTR_dikt_rev = {0:'R', 1 : 'СТО'}\n",
    "grop_dikt = {}\n",
    "mail_dikt ={}"
   ]
  },
  {
   "cell_type": "markdown",
   "metadata": {},
   "source": [
    "## Кодируем целевой столбец"
   ]
  },
  {
   "cell_type": "code",
   "execution_count": 4,
   "metadata": {},
   "outputs": [
    {
     "name": "stderr",
     "output_type": "stream",
     "text": [
      "c:\\program files\\python37\\lib\\site-packages\\pandas\\core\\generic.py:5209: SettingWithCopyWarning: \n",
      "A value is trying to be set on a copy of a slice from a DataFrame.\n",
      "Try using .loc[row_indexer,col_indexer] = value instead\n",
      "\n",
      "See the caveats in the documentation: http://pandas.pydata.org/pandas-docs/stable/user_guide/indexing.html#returning-a-view-versus-a-copy\n",
      "  self[name] = value\n"
     ]
    }
   ],
   "source": [
    "df.TIP_INSTR = df.TIP_INSTR.map(TIP_INSTR_dikt)\n",
    "# df"
   ]
  },
  {
   "cell_type": "markdown",
   "metadata": {},
   "source": [
    "## Выделение групп"
   ]
  },
  {
   "cell_type": "code",
   "execution_count": 5,
   "metadata": {},
   "outputs": [
    {
     "name": "stderr",
     "output_type": "stream",
     "text": [
      "c:\\program files\\python37\\lib\\site-packages\\ipykernel_launcher.py:2: SettingWithCopyWarning: \n",
      "A value is trying to be set on a copy of a slice from a DataFrame.\n",
      "Try using .loc[row_indexer,col_indexer] = value instead\n",
      "\n",
      "See the caveats in the documentation: http://pandas.pydata.org/pandas-docs/stable/user_guide/indexing.html#returning-a-view-versus-a-copy\n",
      "  \n",
      "c:\\program files\\python37\\lib\\site-packages\\ipykernel_launcher.py:9: SettingWithCopyWarning: \n",
      "A value is trying to be set on a copy of a slice from a DataFrame.\n",
      "Try using .loc[row_indexer,col_indexer] = value instead\n",
      "\n",
      "See the caveats in the documentation: http://pandas.pydata.org/pandas-docs/stable/user_guide/indexing.html#returning-a-view-versus-a-copy\n",
      "  if __name__ == '__main__':\n"
     ]
    }
   ],
   "source": [
    "# Выделение роупп в отдельный столбец из pred\n",
    "df['Groupp'] = df.apply(lambda row: str(row['PRED'])[:6] if 'Э' not in str(row['PRED']) else 'Э', axis=1)\n",
    "# Создание словаря в формате int\n",
    "i=1\n",
    "for gr in df.Groupp.unique():\n",
    "    grop_dikt[gr] = i\n",
    "    i = i+1\n",
    "# переименование по словарю\n",
    "df['Groupp'] = df.Groupp.map(grop_dikt)\n",
    "# df"
   ]
  },
  {
   "cell_type": "code",
   "execution_count": 6,
   "metadata": {},
   "outputs": [],
   "source": [
    "# Приведение к булевым значениям\n",
    "from scipy.sparse import csr_matrix\n",
    "def crx(df, col):\n",
    "    ind = df.loc[:,[col]].values\n",
    "    Groupp_flatten = ind.flatten()\n",
    "    # Создание разреженной матрицы принадлежности к группе\n",
    "    Groupp_sparse = csr_matrix(([1] * Groupp_flatten.shape[0],\n",
    "                                    Groupp_flatten,\n",
    "                                    range(0, Groupp_flatten.shape[0] + 1,1)))[:, 1:]\n",
    "    return Groupp_sparse"
   ]
  },
  {
   "cell_type": "code",
   "execution_count": 7,
   "metadata": {},
   "outputs": [],
   "source": [
    "Groupp_sparse = crx(df, 'Groupp')"
   ]
  },
  {
   "cell_type": "markdown",
   "metadata": {},
   "source": [
    "## Параметр фамилий"
   ]
  },
  {
   "cell_type": "code",
   "execution_count": 8,
   "metadata": {},
   "outputs": [
    {
     "name": "stderr",
     "output_type": "stream",
     "text": [
      "c:\\program files\\python37\\lib\\site-packages\\ipykernel_launcher.py:6: SettingWithCopyWarning: \n",
      "A value is trying to be set on a copy of a slice from a DataFrame.\n",
      "Try using .loc[row_indexer,col_indexer] = value instead\n",
      "\n",
      "See the caveats in the documentation: http://pandas.pydata.org/pandas-docs/stable/user_guide/indexing.html#returning-a-view-versus-a-copy\n",
      "  \n"
     ]
    }
   ],
   "source": [
    "i=1\n",
    "for ml in df.USN_CREATE.unique():\n",
    "    mail_dikt[ml] = i\n",
    "    i = i+1\n",
    "# переименование по словарю\n",
    "df['USN_CREATE'] = df.USN_CREATE.map(mail_dikt)\n",
    "mail = crx(df, 'USN_CREATE')"
   ]
  },
  {
   "cell_type": "markdown",
   "metadata": {},
   "source": [
    "## Очистка текста"
   ]
  },
  {
   "cell_type": "code",
   "execution_count": 9,
   "metadata": {},
   "outputs": [
    {
     "name": "stderr",
     "output_type": "stream",
     "text": [
      "c:\\program files\\python37\\lib\\site-packages\\pandas\\core\\generic.py:5209: SettingWithCopyWarning: \n",
      "A value is trying to be set on a copy of a slice from a DataFrame.\n",
      "Try using .loc[row_indexer,col_indexer] = value instead\n",
      "\n",
      "See the caveats in the documentation: http://pandas.pydata.org/pandas-docs/stable/user_guide/indexing.html#returning-a-view-versus-a-copy\n",
      "  self[name] = value\n"
     ]
    }
   ],
   "source": [
    "import re\n",
    "\n",
    "def klean_text(text):\n",
    "#     Приведение к нижнему регистру \n",
    "    text = text.apply(lambda X: str(X).lower())\n",
    "#     Замена ё на е\n",
    "    text = text.apply(lambda X: re.sub(r'ё','е', str(X)))\n",
    "#     Замена ё на е    \n",
    "    text = text.apply(lambda X: re.sub(r'[:;=.,()|\\d|-]', ' ', str(X)))\n",
    "    return text\n",
    "df.NAIM = klean_text(df.NAIM)"
   ]
  },
  {
   "cell_type": "markdown",
   "metadata": {},
   "source": [
    "## Преобразование слов в векторы признаков"
   ]
  },
  {
   "cell_type": "code",
   "execution_count": 10,
   "metadata": {},
   "outputs": [
    {
     "data": {
      "text/plain": [
       "2966"
      ]
     },
     "execution_count": 10,
     "metadata": {},
     "output_type": "execute_result"
    }
   ],
   "source": [
    "import numpy as np\n",
    "from sklearn.feature_extraction.text import CountVectorizer\n",
    "def nan_renam(text):\n",
    "    text = np.array(text)\n",
    "    for n in range(0, len(text)):\n",
    "        if text[n] == 'nan':\n",
    "            text[n] = ''\n",
    "    return text\n",
    "text_train = nan_renam(df.NAIM.tolist())\n",
    "count = CountVectorizer()\n",
    "docs = np.array(text_train)\n",
    "bag = count.fit_transform(docs)\n",
    "cv = CountVectorizer()\n",
    "cv.fit(text_train)\n",
    "text = cv.transform(text_train)\n",
    "text\n",
    "len(count.vocabulary_)"
   ]
  },
  {
   "cell_type": "code",
   "execution_count": 11,
   "metadata": {},
   "outputs": [
    {
     "data": {
      "text/plain": [
       "[(12145, 2966), (12145, 146), (12145, 106)]"
      ]
     },
     "execution_count": 11,
     "metadata": {},
     "output_type": "execute_result"
    }
   ],
   "source": [
    "[text.shape, Groupp_sparse.shape, mail.shape]"
   ]
  },
  {
   "cell_type": "markdown",
   "metadata": {},
   "source": [
    "## Объеденение данных для обучения"
   ]
  },
  {
   "cell_type": "code",
   "execution_count": 12,
   "metadata": {},
   "outputs": [
    {
     "data": {
      "text/plain": [
       "[(12145, 3218), (12145,)]"
      ]
     },
     "execution_count": 12,
     "metadata": {},
     "output_type": "execute_result"
    }
   ],
   "source": [
    "import scipy.sparse as sp\n",
    "X = sp.hstack([text,Groupp_sparse,mail])\n",
    "y = df.TIP_INSTR\n",
    "[X.shape, y.shape]"
   ]
  },
  {
   "cell_type": "markdown",
   "metadata": {},
   "source": [
    "## Создание модели для обучения"
   ]
  },
  {
   "cell_type": "code",
   "execution_count": 13,
   "metadata": {},
   "outputs": [],
   "source": [
    "from sklearn.model_selection import train_test_split, StratifiedKFold\n",
    "X_train, X_test, y_train, y_test = train_test_split(X, y, test_size=0.3,\n",
    "                                                          random_state=17)"
   ]
  },
  {
   "cell_type": "code",
   "execution_count": 14,
   "metadata": {},
   "outputs": [
    {
     "name": "stderr",
     "output_type": "stream",
     "text": [
      "c:\\program files\\python37\\lib\\site-packages\\sklearn\\linear_model\\logistic.py:433: FutureWarning: Default solver will be changed to 'lbfgs' in 0.22. Specify a solver to silence this warning.\n",
      "  FutureWarning)\n"
     ]
    },
    {
     "data": {
      "text/plain": [
       "LogisticRegression(C=1.0, class_weight=None, dual=False, fit_intercept=True,\n",
       "          intercept_scaling=1, max_iter=100, multi_class='warn',\n",
       "          n_jobs=None, penalty='l2', random_state=17, solver='warn',\n",
       "          tol=0.0001, verbose=0, warm_start=False)"
      ]
     },
     "execution_count": 14,
     "metadata": {},
     "output_type": "execute_result"
    }
   ],
   "source": [
    "from sklearn.linear_model import LogisticRegression\n",
    "\n",
    "logit = LogisticRegression(random_state=17)\n",
    "logit.fit(X_train, y_train)"
   ]
  },
  {
   "cell_type": "code",
   "execution_count": 15,
   "metadata": {},
   "outputs": [
    {
     "name": "stderr",
     "output_type": "stream",
     "text": [
      "c:\\program files\\python37\\lib\\site-packages\\sklearn\\model_selection\\_split.py:2053: FutureWarning: You should specify a value for 'cv' instead of relying on the default value. The default value will change from 3 to 5 in version 0.22.\n",
      "  warnings.warn(CV_WARNING, FutureWarning)\n",
      "c:\\program files\\python37\\lib\\site-packages\\sklearn\\linear_model\\logistic.py:433: FutureWarning: Default solver will be changed to 'lbfgs' in 0.22. Specify a solver to silence this warning.\n",
      "  FutureWarning)\n"
     ]
    },
    {
     "data": {
      "text/plain": [
       "array([0.98353909, 0.99012346, 0.98682043])"
      ]
     },
     "execution_count": 15,
     "metadata": {},
     "output_type": "execute_result"
    }
   ],
   "source": [
    "from sklearn import model_selection\n",
    "model_selection.cross_val_score(logit, X_test, y_test)"
   ]
  },
  {
   "cell_type": "code",
   "execution_count": 16,
   "metadata": {},
   "outputs": [
    {
     "data": {
      "text/plain": [
       "0.991218441273326"
      ]
     },
     "execution_count": 16,
     "metadata": {},
     "output_type": "execute_result"
    }
   ],
   "source": [
    "from sklearn.metrics import accuracy_score\n",
    "tree_pred = logit.predict(X_test)\n",
    "accuracy_score(y_test, tree_pred)"
   ]
  },
  {
   "cell_type": "code",
   "execution_count": 17,
   "metadata": {},
   "outputs": [
    {
     "data": {
      "text/html": [
       "<div>\n",
       "<style scoped>\n",
       "    .dataframe tbody tr th:only-of-type {\n",
       "        vertical-align: middle;\n",
       "    }\n",
       "\n",
       "    .dataframe tbody tr th {\n",
       "        vertical-align: top;\n",
       "    }\n",
       "\n",
       "    .dataframe thead th {\n",
       "        text-align: right;\n",
       "    }\n",
       "</style>\n",
       "<table border=\"1\" class=\"dataframe\">\n",
       "  <thead>\n",
       "    <tr style=\"text-align: right;\">\n",
       "      <th></th>\n",
       "      <th>USN_CREATE</th>\n",
       "      <th>Groupp</th>\n",
       "    </tr>\n",
       "  </thead>\n",
       "  <tbody>\n",
       "    <tr>\n",
       "      <th>count</th>\n",
       "      <td>12145.000000</td>\n",
       "      <td>12145.000000</td>\n",
       "    </tr>\n",
       "    <tr>\n",
       "      <th>mean</th>\n",
       "      <td>23.600082</td>\n",
       "      <td>36.178757</td>\n",
       "    </tr>\n",
       "    <tr>\n",
       "      <th>std</th>\n",
       "      <td>19.632675</td>\n",
       "      <td>30.161280</td>\n",
       "    </tr>\n",
       "    <tr>\n",
       "      <th>min</th>\n",
       "      <td>1.000000</td>\n",
       "      <td>1.000000</td>\n",
       "    </tr>\n",
       "    <tr>\n",
       "      <th>25%</th>\n",
       "      <td>8.000000</td>\n",
       "      <td>13.000000</td>\n",
       "    </tr>\n",
       "    <tr>\n",
       "      <th>50%</th>\n",
       "      <td>25.000000</td>\n",
       "      <td>29.000000</td>\n",
       "    </tr>\n",
       "    <tr>\n",
       "      <th>75%</th>\n",
       "      <td>32.000000</td>\n",
       "      <td>47.000000</td>\n",
       "    </tr>\n",
       "    <tr>\n",
       "      <th>max</th>\n",
       "      <td>106.000000</td>\n",
       "      <td>146.000000</td>\n",
       "    </tr>\n",
       "  </tbody>\n",
       "</table>\n",
       "</div>"
      ],
      "text/plain": [
       "         USN_CREATE        Groupp\n",
       "count  12145.000000  12145.000000\n",
       "mean      23.600082     36.178757\n",
       "std       19.632675     30.161280\n",
       "min        1.000000      1.000000\n",
       "25%        8.000000     13.000000\n",
       "50%       25.000000     29.000000\n",
       "75%       32.000000     47.000000\n",
       "max      106.000000    146.000000"
      ]
     },
     "execution_count": 17,
     "metadata": {},
     "output_type": "execute_result"
    }
   ],
   "source": [
    "df.loc[:,['USN_CREATE','Groupp']].describe()"
   ]
  },
  {
   "cell_type": "code",
   "execution_count": 18,
   "metadata": {},
   "outputs": [],
   "source": [
    "ylabels =[]\n",
    "\n",
    "for g in grop_dikt.keys():\n",
    "    ylabels.append(g)\n",
    "    \n"
   ]
  },
  {
   "cell_type": "markdown",
   "metadata": {},
   "source": [
    "# Предсказание"
   ]
  },
  {
   "cell_type": "markdown",
   "metadata": {},
   "source": [
    "## Подготовка данных"
   ]
  },
  {
   "cell_type": "code",
   "execution_count": 19,
   "metadata": {
    "scrolled": true
   },
   "outputs": [],
   "source": [
    "isx_df = pd.read_excel('Номера схем испраленные.xlsx')\n",
    "df = isx_df\n",
    "df = df.loc[:,['PRED','NAIM','USN_CREATE']]\n",
    "# Преобразование текста\n",
    "df.NAIM = klean_text(df.NAIM)\n",
    "text = cv.transform(nan_renam(df.NAIM.tolist()))\n",
    "# Преобразование обозначения чертежа\n",
    "df['Groupp'] = df.apply(lambda row: str(row['PRED'])[:6] if 'Э' not in str(row['PRED']) else 'Э', axis=1)\n",
    "# Кодирование групп согласно ранее созданного словаря \n",
    "df['Groupp'] = df.Groupp.map(grop_dikt)\n",
    "Groupp_sparse = crx(df,'Groupp')\n",
    "# Кодирование фамилий\n",
    "df['USN_CREATE'] = df.USN_CREATE.map(mail_dikt)\n",
    "mail = crx(df, 'USN_CREATE')"
   ]
  },
  {
   "cell_type": "markdown",
   "metadata": {},
   "source": [
    "## Предсказание"
   ]
  },
  {
   "cell_type": "code",
   "execution_count": 20,
   "metadata": {},
   "outputs": [
    {
     "data": {
      "text/plain": [
       "array([0, 0, 0, ..., 1, 1, 1], dtype=int64)"
      ]
     },
     "execution_count": 20,
     "metadata": {},
     "output_type": "execute_result"
    }
   ],
   "source": [
    "pred_testе = sp.hstack([text,Groupp_sparse,mail])\n",
    "out = logit.predict(pred_testе)\n",
    "out"
   ]
  },
  {
   "cell_type": "code",
   "execution_count": 21,
   "metadata": {},
   "outputs": [
    {
     "ename": "SyntaxError",
     "evalue": "invalid syntax (<ipython-input-21-ab9135359445>, line 2)",
     "output_type": "error",
     "traceback": [
      "\u001b[1;36m  File \u001b[1;32m\"<ipython-input-21-ab9135359445>\"\u001b[1;36m, line \u001b[1;32m2\u001b[0m\n\u001b[1;33m    model_selection.cross_val_score(classifier, X_test, y_test)predt_proba = logit.predict_proba(pred_testе)\u001b[0m\n\u001b[1;37m                                                                         ^\u001b[0m\n\u001b[1;31mSyntaxError\u001b[0m\u001b[1;31m:\u001b[0m invalid syntax\n"
     ]
    }
   ],
   "source": [
    "from sklearn import model_selection\n",
    "model_selection.cross_val_score(classifier, X_test, y_test)predt_proba = logit.predict_proba(pred_testе)\n",
    "predt_proba"
   ]
  },
  {
   "cell_type": "code",
   "execution_count": null,
   "metadata": {},
   "outputs": [],
   "source": [
    "tochn = np.array([])\n",
    "for i in predt_proba:\n",
    "    tochn = np.append(tochn, np.max(i))\n",
    "tochn\n",
    "    "
   ]
  },
  {
   "cell_type": "markdown",
   "metadata": {},
   "source": [
    "## Подгоотвка выходных данных"
   ]
  },
  {
   "cell_type": "code",
   "execution_count": null,
   "metadata": {},
   "outputs": [],
   "source": [
    "out_df = isx_df\n",
    "out_df['predt_proba'] = tochn\n",
    "out_df['predict_tip'] = out.astype('int64')\n",
    "out_df['predict_tip'] = out_df['predict_tip'].map(TIP_INSTR_dikt_rev)\n",
    "out_df['predict_tip'] = out_df.loc[:,['TIP_INSTR','predict_tip', 'predt_proba']].apply(lambda x: x['predict_tip'] if x['predt_proba']>0.77 or\n",
    "                                                                                       x['TIP_INSTR'] not in ['СТО', 'R']\n",
    "                                                                                       else x['TIP_INSTR'], axis=1)\n",
    "\n",
    "# out_df = out_df.loc[:,['PRED','NAIM','USN_CREATE','TIP_INSTR','predict_tip']]\n",
    "out_df['False'] = out_df.loc[:,['TIP_INSTR','predict_tip']].apply(lambda x: x[0]==x[1], axis=1)\n",
    "print(1 - out_df[(out_df['False'] == False)&((out_df['TIP_INSTR'] == 'R')|\n",
    "                                   (out_df['TIP_INSTR'] == 'СТО'))].shape[0] / out_df[((out_df['TIP_INSTR'] == 'R')|\n",
    "                                    (out_df['TIP_INSTR'] == 'СТО'))].shape[0])\n",
    "out_df = out_df[(out_df['False'] == False)&((out_df['TIP_INSTR'] == 'СТО')|(out_df['TIP_INSTR'] == 'R'))]\n",
    "out_df = out_df.sort_values(by=['predt_proba'], ascending = False)\n",
    "out_df.loc[:,['PRED','NAIM','TIP_INSTR','predict_tip','predt_proba']]"
   ]
  },
  {
   "cell_type": "markdown",
   "metadata": {},
   "source": [
    "## Сохранение результата"
   ]
  },
  {
   "cell_type": "code",
   "execution_count": null,
   "metadata": {},
   "outputs": [],
   "source": [
    "out_df.to_excel('Номера схем predict.xlsx', index = False)"
   ]
  },
  {
   "cell_type": "code",
   "execution_count": null,
   "metadata": {},
   "outputs": [],
   "source": []
  }
 ],
 "metadata": {
  "kernelspec": {
   "display_name": "Python 3",
   "language": "python",
   "name": "python3"
  },
  "language_info": {
   "codemirror_mode": {
    "name": "ipython",
    "version": 3
   },
   "file_extension": ".py",
   "mimetype": "text/x-python",
   "name": "python",
   "nbconvert_exporter": "python",
   "pygments_lexer": "ipython3",
   "version": "3.7.4"
  },
  "toc": {
   "base_numbering": 1,
   "nav_menu": {},
   "number_sections": true,
   "sideBar": true,
   "skip_h1_title": true,
   "title_cell": "Table of Contents",
   "title_sidebar": "Contents",
   "toc_cell": true,
   "toc_position": {},
   "toc_section_display": true,
   "toc_window_display": false
  }
 },
 "nbformat": 4,
 "nbformat_minor": 2
}
