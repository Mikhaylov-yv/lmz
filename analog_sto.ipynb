{
 "cells": [
  {
   "cell_type": "markdown",
   "metadata": {
    "toc": true
   },
   "source": [
    "<h1>Table of Contents<span class=\"tocSkip\"></span></h1>\n",
    "<div class=\"toc\"><ul class=\"toc-item\"><li><span><a href=\"#Импорт-данных\" data-toc-modified-id=\"Импорт-данных-1\"><span class=\"toc-item-num\">1&nbsp;&nbsp;</span>Импорт данных</a></span></li><li><span><a href=\"#Загрузка-данных\" data-toc-modified-id=\"Загрузка-данных-2\"><span class=\"toc-item-num\">2&nbsp;&nbsp;</span>Загрузка данных</a></span></li><li><span><a href=\"#Функции-преобразования-слов-в-векторы-признаков\" data-toc-modified-id=\"Функции-преобразования-слов-в-векторы-признаков-3\"><span class=\"toc-item-num\">3&nbsp;&nbsp;</span>Функции преобразования слов в векторы признаков</a></span></li><li><span><a href=\"#Создание-словорей-для-текстов\" data-toc-modified-id=\"Создание-словорей-для-текстов-4\"><span class=\"toc-item-num\">4&nbsp;&nbsp;</span>Создание словорей для текстов</a></span></li><li><span><a href=\"#Переменные-словарей\" data-toc-modified-id=\"Переменные-словарей-5\"><span class=\"toc-item-num\">5&nbsp;&nbsp;</span>Переменные словарей</a></span></li><li><span><a href=\"#Очистка-и-преобразование-тестовых-полей\" data-toc-modified-id=\"Очистка-и-преобразование-тестовых-полей-6\"><span class=\"toc-item-num\">6&nbsp;&nbsp;</span>Очистка и преобразование тестовых полей</a></span></li><li><span><a href=\"#Объявление-данных-для-обучения\" data-toc-modified-id=\"Объявление-данных-для-обучения-7\"><span class=\"toc-item-num\">7&nbsp;&nbsp;</span>Объявление данных для обучения</a></span></li><li><span><a href=\"#Создание-модели-для-обучения\" data-toc-modified-id=\"Создание-модели-для-обучения-8\"><span class=\"toc-item-num\">8&nbsp;&nbsp;</span>Создание модели для обучения</a></span></li><li><span><a href=\"#Логистическая-регрессия\" data-toc-modified-id=\"Логистическая-регрессия-9\"><span class=\"toc-item-num\">9&nbsp;&nbsp;</span>Логистическая регрессия</a></span></li><li><span><a href=\"#КНН\" data-toc-modified-id=\"КНН-10\"><span class=\"toc-item-num\">10&nbsp;&nbsp;</span>КНН</a></span></li><li><span><a href=\"#Подготовка-данных\" data-toc-modified-id=\"Подготовка-данных-11\"><span class=\"toc-item-num\">11&nbsp;&nbsp;</span>Подготовка данных</a></span></li><li><span><a href=\"#Предсказание\" data-toc-modified-id=\"Предсказание-12\"><span class=\"toc-item-num\">12&nbsp;&nbsp;</span>Предсказание</a></span></li><li><span><a href=\"#Подгоотвка-выходных-данных\" data-toc-modified-id=\"Подгоотвка-выходных-данных-13\"><span class=\"toc-item-num\">13&nbsp;&nbsp;</span>Подгоотвка выходных данных</a></span></li><li><span><a href=\"#Сохранение-результата\" data-toc-modified-id=\"Сохранение-результата-14\"><span class=\"toc-item-num\">14&nbsp;&nbsp;</span>Сохранение результата</a></span></li></ul></div>"
   ]
  },
  {
   "cell_type": "markdown",
   "metadata": {},
   "source": [
    "# Обучение"
   ]
  },
  {
   "cell_type": "markdown",
   "metadata": {},
   "source": [
    "## Импорт данных"
   ]
  },
  {
   "cell_type": "code",
   "execution_count": 1,
   "metadata": {},
   "outputs": [],
   "source": [
    "import pandas as pd\n",
    "import scipy.sparse as sp\n",
    "from sklearn.svm import LinearSVC\n",
    "from tqdm import tqdm\n",
    "import time"
   ]
  },
  {
   "cell_type": "markdown",
   "metadata": {},
   "source": [
    "## Загрузка данных"
   ]
  },
  {
   "cell_type": "code",
   "execution_count": null,
   "metadata": {
    "scrolled": true
   },
   "outputs": [],
   "source": [
    "%%time\n",
    "df_isx = pd.read_excel('VR-ЛМ.xlsx')\n",
    "# df_isx = df_isx[df_isx.apply(lambda row: True if  row['PRED_INSTR'][:6]== 'ЛМ7002' else False, axis=1)== True]\n",
    "df = df_isx\n",
    "df2 = df.loc[:,['PRED_INSTR','NAIM_1','CEH','NAIM_2','MASSA']]\n",
    "df2['PRED'] = df2.loc[:,['PRED_INSTR']].apply(lambda x: x, axis=1)\n",
    "df2['NAIM'] = df2.loc[:,['NAIM_1']].apply(lambda x: x, axis=1)\n",
    "df = pd.concat([df,df2],sort=False)\n",
    "df['MASSA'] = df['MASSA'].fillna(0)\n",
    "df['MASSA'] = df.loc[:,['PRED','NAIM_2']].apply(lambda x: int(df.loc[:,['PRED','NAIM_2','MASSA']][df['PRED'] == x[0]].MASSA.median()), axis=1)\n",
    "df['NAIM_2'] = df.loc[:,['PRED','NAIM_2']].apply(lambda x: str(df.loc[:,['PRED','NAIM_2']][df['PRED'] == x[0]].NAIM_2.to_list()), axis=1)\n",
    "df = df.loc[:,['PRED', 'NAIM', 'PRED_INSTR', 'NAIM_1', 'NAIM_2', 'MASSA', 'TIP_INSTR']].drop_duplicates()\n",
    "df.head()"
   ]
  },
  {
   "cell_type": "code",
   "execution_count": null,
   "metadata": {},
   "outputs": [],
   "source": [
    "df.shape"
   ]
  },
  {
   "cell_type": "markdown",
   "metadata": {},
   "source": [
    "## Функции преобразования слов в векторы признаков"
   ]
  },
  {
   "cell_type": "code",
   "execution_count": 7,
   "metadata": {},
   "outputs": [],
   "source": [
    "import numpy as np\n",
    "from sklearn.feature_extraction.text import CountVectorizer\n",
    "import re"
   ]
  },
  {
   "cell_type": "code",
   "execution_count": 8,
   "metadata": {},
   "outputs": [],
   "source": [
    "def klean_text(text):\n",
    "#     Приведение к нижнему регистру \n",
    "    text = text.apply(lambda X: str(X).lower())\n",
    "#     Замена ё на е\n",
    "    text = text.apply(lambda X: re.sub(r'ё','е', str(X)))\n",
    "#     Замена ё на е    \n",
    "    text = text.apply(lambda X: re.sub(r'[:;=.,()|\\d|-]', ' ', str(X)))\n",
    "    return text\n",
    "\n",
    "def nan_renam(text):\n",
    "    text = np.array(text)\n",
    "    for n in range(0, len(text)):\n",
    "        if text[n] == 'nan':\n",
    "            text[n] = ''\n",
    "    return text\n",
    "\n",
    "# Соединяет список в один\n",
    "\n",
    "def list_combining(text):\n",
    "    text1 =[]\n",
    "    for t in text:      \n",
    "        if isinstance(t, list):\n",
    "            t = ' '.join(t)\n",
    "            text1.append(t)\n",
    "    print(len(text1))\n",
    "    if len(text1)>0:\n",
    "        text = text1\n",
    "    return text\n",
    "\n",
    "def cv_text_transform(text):\n",
    "    text = list_combining(text)\n",
    "    count = CountVectorizer()\n",
    "    docs = nan_renam(text)\n",
    "    bag = count.fit_transform(docs)\n",
    "    cv = CountVectorizer()\n",
    "    cv.fit(docs)\n",
    "#     print(cv.get_feature_names())\n",
    "    return cv\n",
    "\n",
    "def cv_text_transform_tiporazmer(text, tip_list):\n",
    "    tip_dikt = {}\n",
    "    tip_dikt1 = {}\n",
    "    tip_dikt2 = {}\n",
    "\n",
    "    count = CountVectorizer()\n",
    "    count.fit_transform(text)\n",
    "    \n",
    "    for tip in tip_list:\n",
    "        if tip in count.vocabulary_:\n",
    "            tip_dikt[tip] = count.vocabulary_[tip]\n",
    "    \n",
    "    for i in range(len([*tip_dikt])):\n",
    "        word = [*tip_dikt][i]\n",
    "        obr = 0\n",
    "        for nam in range(len(word)):\n",
    "            if nam>0 and word[nam].isdigit() == False:\n",
    "                obr = int(word[1:nam])\n",
    "                break\n",
    "\n",
    "        if obr == 0: obr = int(word[1:])\n",
    "    #     print ([obr,[*tip_dikt][i]])\n",
    "        if obr not in tip_dikt1:\n",
    "            tip_dikt1[obr] = tip_dikt[[*tip_dikt][i]]\n",
    "    #     print ([[*tip_dikt][i],obr, tip_dikt1[obr]])\n",
    "        tip_dikt2[[*tip_dikt][i]] = tip_dikt1[obr]\n",
    "    count.vocabulary_ = tip_dikt2\n",
    "    return count\n",
    "\n",
    "\n",
    "\n",
    "# Преобрает данные с использованием словарей\n",
    "def converter (df, cv_NAIM_train, cv_NAIM_dse_train,tip_list):\n",
    "#     tiporazmer_train = tiporazmer(cv_NAIM_train.transform(df.NAIM.tolist()).toarray(),tip_list, cv_NAIM_train)\n",
    "    NAIM_train = cv_NAIM_train.transform(df.NAIM.tolist()).toarray()\n",
    "    NAIM_dse_train = cv_NAIM_dse_train.transform(list_combining(df.NAIM_2.tolist()))\n",
    "    Tiporazmer = cv_NAIM_train_tiporazm.transform(df.NAIM.tolist()).toarray()\n",
    "    MASSA = np.array(df.MASSA,dtype = int, ndmin = 2).transpose()\n",
    "    print([NAIM_train.shape, NAIM_dse_train.shape, Tiporazmer.shape])\n",
    "    X = sp.hstack([NAIM_train, NAIM_dse_train,Tiporazmer])\n",
    "#     X = NAIM_train\n",
    "#     X = sp.hstack([NAIM_train, NAIM_dse_train, MASSA])\n",
    "    return X"
   ]
  },
  {
   "cell_type": "markdown",
   "metadata": {},
   "source": [
    "## Создание словорей для текстов"
   ]
  },
  {
   "cell_type": "code",
   "execution_count": 9,
   "metadata": {},
   "outputs": [
    {
     "name": "stdout",
     "output_type": "stream",
     "text": [
      "0\n",
      "0\n"
     ]
    }
   ],
   "source": [
    "# Слова из задания\n",
    "cv_NAIM_train = cv_text_transform(df.NAIM.tolist())\n",
    "# Слова из целевой детали\n",
    "cv_NAIM_dse_train = cv_text_transform(df.NAIM_2.tolist())"
   ]
  },
  {
   "cell_type": "markdown",
   "metadata": {},
   "source": [
    "## Переменные словарей"
   ]
  },
  {
   "cell_type": "code",
   "execution_count": 10,
   "metadata": {},
   "outputs": [],
   "source": [
    "TIP_INSTR_dikt = {r'R':0, r'СТО':1}\n",
    "grop_dikt = {}\n",
    "mail_dikt ={}\n",
    "pered_dikt={}\n",
    "tip_list = [i for i in cv_NAIM_train.get_feature_names() if i[0] in ['м', 'ф', 'r'] and i[1].isdigit()]"
   ]
  },
  {
   "cell_type": "markdown",
   "metadata": {},
   "source": [
    "## Очистка и преобразование тестовых полей"
   ]
  },
  {
   "cell_type": "code",
   "execution_count": 11,
   "metadata": {},
   "outputs": [],
   "source": [
    "# Типоразмерная харрактеристика\n",
    "cv_NAIM_train_tiporazm = cv_text_transform_tiporazmer(df.NAIM.tolist(), tip_list)"
   ]
  },
  {
   "cell_type": "code",
   "execution_count": 12,
   "metadata": {},
   "outputs": [],
   "source": [
    "# Убрать типоразмерные харрактеристики\n",
    "for kei in [*cv_NAIM_train_tiporazm.vocabulary_]:\n",
    "    del cv_NAIM_train.vocabulary_[kei]"
   ]
  },
  {
   "cell_type": "code",
   "execution_count": 13,
   "metadata": {},
   "outputs": [
    {
     "data": {
      "text/plain": [
       "{'приспособление': 210,\n",
       " 'для': 97,\n",
       " 'обработки': 165,\n",
       " 'отв': 171,\n",
       " 'секторах': 243,\n",
       " 'кольца': 119,\n",
       " 'шаблон': 312,\n",
       " 'на': 157,\n",
       " 'профиль': 213,\n",
       " 'схема': 264,\n",
       " 'установки': 283,\n",
       " 'цвд': 305,\n",
       " 'ст': 253,\n",
       " 'форрест': 297,\n",
       " 'балансировки': 62,\n",
       " 'поршня': 197,\n",
       " 'сверло': 239,\n",
       " '23': 18,\n",
       " 'удл': 279,\n",
       " 'шайбы': 314,\n",
       " 'подкладные': 189,\n",
       " 'под': 188,\n",
       " 'колпачковые': 118,\n",
       " 'гайки': 80,\n",
       " 'лм7019': 141,\n",
       " '0535': 0,\n",
       " 'линейка': 136,\n",
       " 'поверочная': 186,\n",
       " 'паз': 174,\n",
       " '120н9': 6,\n",
       " 'лм7856': 144,\n",
       " '0677': 2,\n",
       " 'кольцо': 120,\n",
       " 'калибр': 108,\n",
       " 'разметки': 221,\n",
       " 'отверстий': 172,\n",
       " 'пазов': 175,\n",
       " 'форсунки': 298,\n",
       " 'строповки': 260,\n",
       " 'кантовки': 111,\n",
       " 'канавку': 109,\n",
       " '30': 27,\n",
       " 'град': 90,\n",
       " 'эл': 322,\n",
       " 'гидроиспытания': 83,\n",
       " 'совмесно': 249,\n",
       " 'крышками': 131,\n",
       " 'черт': 311,\n",
       " '2338135сб': 20,\n",
       " '2338145сб': 21,\n",
       " 'транспортировки': 272,\n",
       " 'фланца': 295,\n",
       " 'трубы': 274,\n",
       " 'спец': 251,\n",
       " 'скоба': 246,\n",
       " 'размер': 220,\n",
       " '18а11': 13,\n",
       " '29': 25,\n",
       " 'упор': 280,\n",
       " 'от': 170,\n",
       " 'выпадания': 79,\n",
       " 'цапфы': 304,\n",
       " 'из': 105,\n",
       " 'корпуса': 126,\n",
       " 'лопатки': 147,\n",
       " 'ступении': 262,\n",
       " 'при': 203,\n",
       " 'выгрузке': 78,\n",
       " 'тары': 267,\n",
       " 'раскладки': 224,\n",
       " 'стеллажи': 258,\n",
       " 'ступени': 261,\n",
       " 'доработка': 98,\n",
       " 'схемы': 265,\n",
       " 'лм0868': 138,\n",
       " '6333сх': 40,\n",
       " 'деталей': 93,\n",
       " 'аустенитных': 61,\n",
       " 'сталей': 255,\n",
       " '6332сх': 39,\n",
       " 'клиновой': 114,\n",
       " 'щуп': 321,\n",
       " 'замера': 101,\n",
       " 'ширины': 318,\n",
       " 'горла': 87,\n",
       " '56': 37,\n",
       " '46': 32,\n",
       " 'между': 154,\n",
       " 'лопатками': 146,\n",
       " 'хв': 300,\n",
       " 'фреза': 299,\n",
       " 'нержавеющего': 159,\n",
       " 'сопла': 250,\n",
       " 'нержавеющей': 160,\n",
       " 'крышки': 132,\n",
       " 'сектора': 242,\n",
       " 'обоймы': 164,\n",
       " 'сборе': 234,\n",
       " 'циркуль': 307,\n",
       " 'снятия': 248,\n",
       " 'геометрических': 82,\n",
       " 'параметров': 177,\n",
       " 'сварной': 237,\n",
       " 'заготовки': 100,\n",
       " 'диафрагмы': 96,\n",
       " '3500': 30,\n",
       " 'мм': 156,\n",
       " 'погрешность': 187,\n",
       " 'измерений': 107,\n",
       " 'козырька': 116,\n",
       " '1542644': 10,\n",
       " 'приваренными': 204,\n",
       " 'планками': 182,\n",
       " 'жесткости': 99,\n",
       " 'фильтра': 294,\n",
       " 'пр': 200,\n",
       " 'контршаблон': 123,\n",
       " 'ласточкин': 133,\n",
       " 'хвост': 301,\n",
       " 'угол': 277,\n",
       " '60': 38,\n",
       " 'градусов': 91,\n",
       " '16х5': 11,\n",
       " 'сх': 263,\n",
       " 'разъемом': 223,\n",
       " 'вверх': 68,\n",
       " 'горизонтальном': 86,\n",
       " 'положении': 195,\n",
       " 'технологический': 268,\n",
       " 'крепеж': 128,\n",
       " 'взамен': 73,\n",
       " 'штатного': 320,\n",
       " 'поз': 192,\n",
       " '21': 17,\n",
       " '35': 29,\n",
       " 'по': 185,\n",
       " '2325263сб': 19,\n",
       " '8компл': 43,\n",
       " 'приварки': 205,\n",
       " 'планок': 183,\n",
       " 'резец': 229,\n",
       " 'прорезной': 212,\n",
       " 'расточки': 225,\n",
       " 'оправка': 167,\n",
       " 'резца': 230,\n",
       " 'лм2110': 139,\n",
       " '0622': 1,\n",
       " 'установка': 281,\n",
       " 'вала': 66,\n",
       " 'рнд': 231,\n",
       " 'станок': 257,\n",
       " 'таcchi': 266,\n",
       " 'два': 92,\n",
       " 'люнета': 150,\n",
       " 'приводом': 206,\n",
       " 'через': 310,\n",
       " 'кардан': 112,\n",
       " 'сборки': 235,\n",
       " 'пригонки': 208,\n",
       " 'профиля': 214,\n",
       " 'бандажа': 63,\n",
       " 'лопаток': 148,\n",
       " 'левого': 135,\n",
       " 'потокал': 199,\n",
       " 'потока': 198,\n",
       " 'правого': 202,\n",
       " 'головка': 85,\n",
       " 'гайку': 81,\n",
       " 's145': 58,\n",
       " 'секторов': 244,\n",
       " 'кронштейнов': 130,\n",
       " 'пробка': 211,\n",
       " '8н11': 44,\n",
       " 'ротора': 232,\n",
       " 'строп': 259,\n",
       " 'трансп': 270,\n",
       " 'ящик': 323,\n",
       " 'хранения': 303,\n",
       " 'радиальный': 219,\n",
       " 'рабочего': 217,\n",
       " 'пакета': 176,\n",
       " 'первой': 179,\n",
       " '15': 9,\n",
       " 'люка': 149,\n",
       " 'оснащение': 169,\n",
       " 'удержания': 278,\n",
       " 'падения': 173,\n",
       " 'вкладыша': 75,\n",
       " 'обрезиненного': 166,\n",
       " 'установке': 282,\n",
       " 'корпус': 125,\n",
       " 'подшипника': 190,\n",
       " 'части': 309,\n",
       " 'ванны': 67,\n",
       " 'верхней': 72,\n",
       " 'коробки': 124,\n",
       " 'нижней': 161,\n",
       " 'половин': 193,\n",
       " 'кожуха': 115,\n",
       " 'лм8380': 145,\n",
       " '1236': 7,\n",
       " 'лм7845': 143,\n",
       " '2586': 23,\n",
       " 'зенкер': 103,\n",
       " '25': 22,\n",
       " 'мех': 155,\n",
       " 'лм7154': 142,\n",
       " '1082': 4,\n",
       " 'втулка': 76,\n",
       " 'переходная': 180,\n",
       " 'лм6142': 140,\n",
       " '0712': 3,\n",
       " 'проходной': 215,\n",
       " 'кондуктор': 121,\n",
       " 'ст3': 254,\n",
       " 'гост': 88,\n",
       " '380': 31,\n",
       " '2005': 16,\n",
       " 'станке': 256,\n",
       " 'цилиндра': 306,\n",
       " 'вд': 69,\n",
       " 'шайба': 313,\n",
       " '125х320х40': 8,\n",
       " 'секции': 245,\n",
       " 'угловой': 276,\n",
       " 'уг': 275,\n",
       " 'гр': 89,\n",
       " 'изделия': 106,\n",
       " '18': 12,\n",
       " 'фланцев': 296,\n",
       " 'полуколец': 196,\n",
       " 'труб': 273,\n",
       " 'листов': 137,\n",
       " 'регулируемый': 228,\n",
       " 'диафрагмах': 95,\n",
       " '200': 15,\n",
       " '26х5': 24,\n",
       " 'типа': 269,\n",
       " '50': 35,\n",
       " 'бугель': 65,\n",
       " 'обойм': 162,\n",
       " 'сектор': 241,\n",
       " 'обойма': 163,\n",
       " 'вкладыш': 74,\n",
       " 'штангенциркуль': 319,\n",
       " 'специальный': 252,\n",
       " '500': 36,\n",
       " 'каналов': 110,\n",
       " 'диафрагм': 94,\n",
       " 'шир': 316,\n",
       " '12': 5,\n",
       " 'глуб': 84,\n",
       " 'сварных': 238,\n",
       " 'болт': 64,\n",
       " 'припасованный': 209,\n",
       " 'швеллеров': 315,\n",
       " 'шириной': 317,\n",
       " 'расточная': 226,\n",
       " 'lраб': 47,\n",
       " '498': 33,\n",
       " 'lобщ': 46,\n",
       " '692': 41,\n",
       " 'iso50': 45,\n",
       " 'сварного': 236,\n",
       " 'нд': 158,\n",
       " 'tacchi': 60,\n",
       " '4ст': 34,\n",
       " 'цнд': 308,\n",
       " 'контроля': 122,\n",
       " 'пра': 201,\n",
       " 'лев': 134,\n",
       " 'входной': 77,\n",
       " 'кромке': 129,\n",
       " 'пригонке': 207,\n",
       " 'переходник': 181,\n",
       " 's85': 59,\n",
       " '8h7': 42,\n",
       " 'подъема': 191,\n",
       " 'роторов': 233,\n",
       " 'колеса': 117,\n",
       " 'зубчатого': 104,\n",
       " 'радиальные': 218,\n",
       " 'плоскости': 184,\n",
       " 'хвостовика': 302,\n",
       " 'раб': 216,\n",
       " '1ст': 14,\n",
       " 'скос': 247,\n",
       " 'корпусе': 127,\n",
       " 'транспорт': 271,\n",
       " 'регулир': 227,\n",
       " 'клапана': 113,\n",
       " 'сд': 240,\n",
       " 'верхн': 71,\n",
       " 'половины': 194,\n",
       " 'патрубка': 178,\n",
       " 'разметочный': 222,\n",
       " '2ск': 26,\n",
       " '3000': 28,\n",
       " 'вертикальными': 70,\n",
       " 'захватами': 102,\n",
       " 'оправочный': 168}"
      ]
     },
     "execution_count": 13,
     "metadata": {},
     "output_type": "execute_result"
    }
   ],
   "source": [
    "len(cv_NAIM_train.vocabulary_)\n",
    "cv_NAIM_train.vocabulary_"
   ]
  },
  {
   "cell_type": "code",
   "execution_count": 14,
   "metadata": {},
   "outputs": [],
   "source": [
    "# # Отобразить таблицу типоразмерных харрактерристик\n",
    "# matr = NAIM_train\n",
    "# df_dikt = pd.DataFrame(matr,columns = cv_NAIM_train.get_feature_names(), index = df.NAIM.tolist())\n",
    "# df_dikt[tip_list]"
   ]
  },
  {
   "cell_type": "code",
   "execution_count": 15,
   "metadata": {},
   "outputs": [],
   "source": [
    "# Масштабирование\n",
    "# from sklearn.preprocessing import StandardScaler\n",
    "# scaler = StandardScaler()"
   ]
  },
  {
   "cell_type": "markdown",
   "metadata": {},
   "source": [
    "## Объявление данных для обучения"
   ]
  },
  {
   "cell_type": "code",
   "execution_count": 16,
   "metadata": {},
   "outputs": [
    {
     "name": "stdout",
     "output_type": "stream",
     "text": [
      "0\n",
      "[(150, 301), (150, 391), (150, 23)]\n"
     ]
    },
    {
     "data": {
      "text/plain": [
       "[(150, 715), (150,)]"
      ]
     },
     "execution_count": 16,
     "metadata": {},
     "output_type": "execute_result"
    }
   ],
   "source": [
    "X = converter(df, cv_NAIM_train, cv_NAIM_dse_train,tip_list)\n",
    "y = df.PRED_INSTR\n",
    "[X.shape, y.shape]"
   ]
  },
  {
   "cell_type": "markdown",
   "metadata": {},
   "source": [
    "## Создание модели для обучения"
   ]
  },
  {
   "cell_type": "code",
   "execution_count": 17,
   "metadata": {},
   "outputs": [
    {
     "data": {
      "text/plain": [
       "[(135, 715), (135,)]"
      ]
     },
     "execution_count": 17,
     "metadata": {},
     "output_type": "execute_result"
    }
   ],
   "source": [
    "from sklearn.model_selection import train_test_split, StratifiedKFold\n",
    "X_train, X_test, y_train, y_test = train_test_split(X, y, test_size=0.1,\n",
    "                                                          random_state=17)\n",
    "[X_train.shape, y_train.shape]"
   ]
  },
  {
   "cell_type": "markdown",
   "metadata": {},
   "source": [
    "## Логистическая регрессия"
   ]
  },
  {
   "cell_type": "code",
   "execution_count": 1,
   "metadata": {},
   "outputs": [
    {
     "ename": "NameError",
     "evalue": "name 'X_train' is not defined",
     "output_type": "error",
     "traceback": [
      "\u001b[1;31m---------------------------------------------------------------------------\u001b[0m",
      "\u001b[1;31mNameError\u001b[0m                                 Traceback (most recent call last)",
      "\u001b[1;32m<timed exec>\u001b[0m in \u001b[0;36m<module>\u001b[1;34m\u001b[0m\n",
      "\u001b[1;31mNameError\u001b[0m: name 'X_train' is not defined"
     ]
    }
   ],
   "source": [
    "%%time\n",
    "from sklearn.linear_model import LogisticRegression\n",
    "\n",
    "logit = LogisticRegression(random_state=17, solver='lbfgs',multi_class='multinomial')\n",
    "logit.fit(X_train, y_train)"
   ]
  },
  {
   "cell_type": "code",
   "execution_count": null,
   "metadata": {},
   "outputs": [],
   "source": [
    "from sklearn import model_selection\n",
    "model_selection.cross_val_score(logit, X_train, y_train)[0]"
   ]
  },
  {
   "cell_type": "code",
   "execution_count": 26,
   "metadata": {},
   "outputs": [
    {
     "name": "stdout",
     "output_type": "stream",
     "text": [
      "Wall time: 1.97 ms\n"
     ]
    },
    {
     "data": {
      "text/plain": [
       "0.7333333333333333"
      ]
     },
     "execution_count": 26,
     "metadata": {},
     "output_type": "execute_result"
    }
   ],
   "source": [
    "%%time\n",
    "from sklearn.metrics import accuracy_score\n",
    "tree_pred = logit.predict(X_test)\n",
    "accuracy_score(y_test, tree_pred)"
   ]
  },
  {
   "cell_type": "markdown",
   "metadata": {},
   "source": [
    "## КНН"
   ]
  },
  {
   "cell_type": "code",
   "execution_count": 27,
   "metadata": {},
   "outputs": [
    {
     "name": "stdout",
     "output_type": "stream",
     "text": [
      "Wall time: 999 µs\n"
     ]
    },
    {
     "data": {
      "text/plain": [
       "KNeighborsClassifier(algorithm='auto', leaf_size=30, metric='minkowski',\n",
       "           metric_params=None, n_jobs=1, n_neighbors=2, p=2,\n",
       "           weights='uniform')"
      ]
     },
     "execution_count": 27,
     "metadata": {},
     "output_type": "execute_result"
    }
   ],
   "source": [
    "%%time\n",
    "from sklearn.neighbors import KNeighborsClassifier\n",
    "classifier = KNeighborsClassifier(n_neighbors=2, n_jobs = 1)\n",
    "classifier.fit(X_train, y_train)"
   ]
  },
  {
   "cell_type": "code",
   "execution_count": 28,
   "metadata": {},
   "outputs": [
    {
     "name": "stdout",
     "output_type": "stream",
     "text": [
      "Wall time: 4.98 ms\n"
     ]
    },
    {
     "data": {
      "text/plain": [
       "0.5333333333333333"
      ]
     },
     "execution_count": 28,
     "metadata": {},
     "output_type": "execute_result"
    }
   ],
   "source": [
    "%%time\n",
    "from sklearn.metrics import accuracy_score\n",
    "test_predikt = classifier.predict(X_test)\n",
    "accuracy_score(y_test, test_predikt)"
   ]
  },
  {
   "cell_type": "code",
   "execution_count": 29,
   "metadata": {},
   "outputs": [
    {
     "name": "stderr",
     "output_type": "stream",
     "text": [
      "c:\\program files\\python37\\lib\\site-packages\\sklearn\\model_selection\\_split.py:2053: FutureWarning: You should specify a value for 'cv' instead of relying on the default value. The default value will change from 3 to 5 in version 0.22.\n",
      "  warnings.warn(CV_WARNING, FutureWarning)\n",
      "c:\\program files\\python37\\lib\\site-packages\\sklearn\\model_selection\\_split.py:652: Warning: The least populated class in y has only 1 members, which is too few. The minimum number of members in any class cannot be less than n_splits=3.\n",
      "  % (min_groups, self.n_splits)), Warning)\n"
     ]
    },
    {
     "data": {
      "text/plain": [
       "0.6086956521739131"
      ]
     },
     "execution_count": 29,
     "metadata": {},
     "output_type": "execute_result"
    }
   ],
   "source": [
    "from sklearn import model_selection\n",
    "model_selection.cross_val_score(classifier, X_train, y_train)[0]"
   ]
  },
  {
   "cell_type": "markdown",
   "metadata": {},
   "source": [
    "# Предсказание"
   ]
  },
  {
   "cell_type": "code",
   "execution_count": 30,
   "metadata": {},
   "outputs": [],
   "source": [
    "import random\n",
    "l = len(df)\n",
    "n = 140\n",
    "i1 = random.randint(0, l-n-1)"
   ]
  },
  {
   "cell_type": "code",
   "execution_count": 31,
   "metadata": {},
   "outputs": [
    {
     "data": {
      "text/html": [
       "<div>\n",
       "<style scoped>\n",
       "    .dataframe tbody tr th:only-of-type {\n",
       "        vertical-align: middle;\n",
       "    }\n",
       "\n",
       "    .dataframe tbody tr th {\n",
       "        vertical-align: top;\n",
       "    }\n",
       "\n",
       "    .dataframe thead th {\n",
       "        text-align: right;\n",
       "    }\n",
       "</style>\n",
       "<table border=\"1\" class=\"dataframe\">\n",
       "  <thead>\n",
       "    <tr style=\"text-align: right;\">\n",
       "      <th></th>\n",
       "      <th>PRED</th>\n",
       "      <th>NAIM</th>\n",
       "      <th>PRED_INSTR</th>\n",
       "      <th>NAIM_1</th>\n",
       "      <th>CEH</th>\n",
       "      <th>NAIM_2</th>\n",
       "      <th>MASSA</th>\n",
       "    </tr>\n",
       "  </thead>\n",
       "  <tbody>\n",
       "    <tr>\n",
       "      <td>164558</td>\n",
       "      <td>VR1890237</td>\n",
       "      <td>Схема строповки для кантовки и транспортирован...</td>\n",
       "      <td>ЛМ0868-6332</td>\n",
       "      <td>Схема строповки для кантовки и транспортировки...</td>\n",
       "      <td>133</td>\n",
       "      <td>ПЛИТА ВЫВОДОВ</td>\n",
       "      <td>1396.0</td>\n",
       "    </tr>\n",
       "    <tr>\n",
       "      <td>76587</td>\n",
       "      <td>VR1799852</td>\n",
       "      <td>Схема кантовки колена в процессе сборки-сварки</td>\n",
       "      <td>ЛМ0868-6334</td>\n",
       "      <td>Схема строповки для транспортировки и кантовки...</td>\n",
       "      <td>105</td>\n",
       "      <td>Патрубок</td>\n",
       "      <td>1610.0</td>\n",
       "    </tr>\n",
       "    <tr>\n",
       "      <td>189438</td>\n",
       "      <td>VR1718941</td>\n",
       "      <td>Схема строповки для кантовки и транспортировки</td>\n",
       "      <td>ЛМ0868-6333</td>\n",
       "      <td>Схема строповки для кантовки и транспортировки...</td>\n",
       "      <td>213</td>\n",
       "      <td>Заготовка обода диафрагмы 4ст. для ч.1479944</td>\n",
       "      <td>600.0</td>\n",
       "    </tr>\n",
       "    <tr>\n",
       "      <td>78275</td>\n",
       "      <td>VR1832473</td>\n",
       "      <td>Схема кантовки и транспортировки</td>\n",
       "      <td>ЛМ0868-6332</td>\n",
       "      <td>Схема строповки для кантовки и транспортировки...</td>\n",
       "      <td>133</td>\n",
       "      <td>СТЕНКА</td>\n",
       "      <td>2261.0</td>\n",
       "    </tr>\n",
       "    <tr>\n",
       "      <td>159574</td>\n",
       "      <td>VR1718742</td>\n",
       "      <td>Схема строповки для кантовки и транспортировки</td>\n",
       "      <td>ЛМ0868-6333</td>\n",
       "      <td>Схема строповки для кантовки и транспортировки...</td>\n",
       "      <td>133</td>\n",
       "      <td>Фланец</td>\n",
       "      <td>300.0</td>\n",
       "    </tr>\n",
       "  </tbody>\n",
       "</table>\n",
       "</div>"
      ],
      "text/plain": [
       "             PRED                                               NAIM  \\\n",
       "164558  VR1890237  Схема строповки для кантовки и транспортирован...   \n",
       "76587   VR1799852     Схема кантовки колена в процессе сборки-сварки   \n",
       "189438  VR1718941     Схема строповки для кантовки и транспортировки   \n",
       "78275   VR1832473                   Схема кантовки и транспортировки   \n",
       "159574  VR1718742     Схема строповки для кантовки и транспортировки   \n",
       "\n",
       "         PRED_INSTR                                             NAIM_1  CEH  \\\n",
       "164558  ЛМ0868-6332  Схема строповки для кантовки и транспортировки...  133   \n",
       "76587   ЛМ0868-6334  Схема строповки для транспортировки и кантовки...  105   \n",
       "189438  ЛМ0868-6333  Схема строповки для кантовки и транспортировки...  213   \n",
       "78275   ЛМ0868-6332  Схема строповки для кантовки и транспортировки...  133   \n",
       "159574  ЛМ0868-6333  Схема строповки для кантовки и транспортировки...  133   \n",
       "\n",
       "                                              NAIM_2   MASSA  \n",
       "164558                                 ПЛИТА ВЫВОДОВ  1396.0  \n",
       "76587                                       Патрубок  1610.0  \n",
       "189438  Заготовка обода диафрагмы 4ст. для ч.1479944   600.0  \n",
       "78275                                         СТЕНКА  2261.0  \n",
       "159574                                        Фланец   300.0  "
      ]
     },
     "execution_count": 31,
     "metadata": {},
     "output_type": "execute_result"
    }
   ],
   "source": [
    "df_out = df_isx.sample(frac= 0.1,random_state=i1)\n",
    "df_out = df_out.loc[:,['PRED','NAIM','PRED_INSTR', 'NAIM_1', 'CEH', 'NAIM_2','MASSA']]\n",
    "df_out.head()"
   ]
  },
  {
   "cell_type": "code",
   "execution_count": 32,
   "metadata": {},
   "outputs": [
    {
     "name": "stdout",
     "output_type": "stream",
     "text": [
      "0\n",
      "[(23759, 301), (23759, 391), (23759, 23)]\n"
     ]
    }
   ],
   "source": [
    "# Кодирование выборки\n",
    "X_work = converter(df_out, cv_NAIM_train, cv_NAIM_dse_train,tip_list)"
   ]
  },
  {
   "cell_type": "code",
   "execution_count": 34,
   "metadata": {},
   "outputs": [
    {
     "name": "stdout",
     "output_type": "stream",
     "text": [
      "(23759,)\n"
     ]
    }
   ],
   "source": [
    "# Предсказание\n",
    "work_predikt = logit.predict(X_work)\n",
    "print(work_predikt.shape)"
   ]
  },
  {
   "cell_type": "code",
   "execution_count": 42,
   "metadata": {},
   "outputs": [],
   "source": [
    "LM_predict_proba = []\n",
    "LM_vern_otv = []\n",
    "logit.predict_proba(X_work)\n",
    "proba = logit.predict_proba(X_work)\n",
    "for rang in range(proba.shape[1]):\n",
    "    LM_predict_proba.append(max(proba[rang]))\n",
    "    LM_vern_otv.append(proba[rang][df_out.PRED_INSTR.to_list().\n",
    "                                   index(df_out.PRED_INSTR.to_list()[rang])])"
   ]
  },
  {
   "cell_type": "code",
   "execution_count": 43,
   "metadata": {},
   "outputs": [],
   "source": [
    "naim_inst_dikt = pd.Series(df.NAIM_1.values,index=df.PRED_INSTR).to_dict()"
   ]
  },
  {
   "cell_type": "code",
   "execution_count": 45,
   "metadata": {},
   "outputs": [
    {
     "data": {
      "text/plain": [
       "(23759, 8)"
      ]
     },
     "execution_count": 45,
     "metadata": {},
     "output_type": "execute_result"
    }
   ],
   "source": [
    "df_out.shape"
   ]
  },
  {
   "cell_type": "code",
   "execution_count": 44,
   "metadata": {},
   "outputs": [
    {
     "ename": "ValueError",
     "evalue": "Length of values does not match length of index",
     "output_type": "error",
     "traceback": [
      "\u001b[1;31m---------------------------------------------------------------------------\u001b[0m",
      "\u001b[1;31mValueError\u001b[0m                                Traceback (most recent call last)",
      "\u001b[1;32m<ipython-input-44-04ecfa8729d5>\u001b[0m in \u001b[0;36m<module>\u001b[1;34m\u001b[0m\n\u001b[0;32m      1\u001b[0m \u001b[0mdf_out\u001b[0m\u001b[1;33m[\u001b[0m\u001b[1;34m'PRED_INSTR_PREDIKT'\u001b[0m\u001b[1;33m]\u001b[0m \u001b[1;33m=\u001b[0m \u001b[0mwork_predikt\u001b[0m\u001b[1;33m\u001b[0m\u001b[1;33m\u001b[0m\u001b[0m\n\u001b[1;32m----> 2\u001b[1;33m \u001b[0mdf_out\u001b[0m\u001b[1;33m[\u001b[0m\u001b[1;34m'LM_predict_proba'\u001b[0m\u001b[1;33m]\u001b[0m \u001b[1;33m=\u001b[0m \u001b[0mLM_predict_proba\u001b[0m\u001b[1;33m\u001b[0m\u001b[1;33m\u001b[0m\u001b[0m\n\u001b[0m\u001b[0;32m      3\u001b[0m \u001b[0mdf_out\u001b[0m\u001b[1;33m[\u001b[0m\u001b[1;34m'LM_vern_otv'\u001b[0m\u001b[1;33m]\u001b[0m \u001b[1;33m=\u001b[0m \u001b[0mLM_vern_otv\u001b[0m\u001b[1;33m\u001b[0m\u001b[1;33m\u001b[0m\u001b[0m\n\u001b[0;32m      4\u001b[0m \u001b[0mdf_out\u001b[0m\u001b[1;33m[\u001b[0m\u001b[1;34m'NAIM_INSTR_PREDIKT'\u001b[0m\u001b[1;33m]\u001b[0m \u001b[1;33m=\u001b[0m \u001b[0mdf_out\u001b[0m\u001b[1;33m.\u001b[0m\u001b[0mloc\u001b[0m\u001b[1;33m[\u001b[0m\u001b[1;33m:\u001b[0m\u001b[1;33m,\u001b[0m\u001b[1;34m'PRED_INSTR_PREDIKT'\u001b[0m\u001b[1;33m]\u001b[0m\u001b[1;33m.\u001b[0m\u001b[0mapply\u001b[0m\u001b[1;33m(\u001b[0m\u001b[1;32mlambda\u001b[0m \u001b[0mpred\u001b[0m\u001b[1;33m:\u001b[0m \u001b[0mnaim_inst_dikt\u001b[0m\u001b[1;33m[\u001b[0m\u001b[0mpred\u001b[0m\u001b[1;33m]\u001b[0m\u001b[1;33m)\u001b[0m\u001b[1;33m\u001b[0m\u001b[1;33m\u001b[0m\u001b[0m\n\u001b[0;32m      5\u001b[0m \u001b[0mdf_out\u001b[0m\u001b[1;33m[\u001b[0m\u001b[1;34m'False'\u001b[0m\u001b[1;33m]\u001b[0m \u001b[1;33m=\u001b[0m \u001b[0mdf_out\u001b[0m\u001b[1;33m.\u001b[0m\u001b[0mloc\u001b[0m\u001b[1;33m[\u001b[0m\u001b[1;33m:\u001b[0m\u001b[1;33m,\u001b[0m\u001b[1;33m[\u001b[0m\u001b[1;34m'PRED_INSTR'\u001b[0m\u001b[1;33m,\u001b[0m\u001b[1;34m'PRED_INSTR_PREDIKT'\u001b[0m\u001b[1;33m]\u001b[0m\u001b[1;33m]\u001b[0m\u001b[1;33m.\u001b[0m\u001b[0mapply\u001b[0m\u001b[1;33m(\u001b[0m\u001b[1;32mlambda\u001b[0m \u001b[0mx\u001b[0m\u001b[1;33m:\u001b[0m \u001b[0mx\u001b[0m\u001b[1;33m[\u001b[0m\u001b[1;36m0\u001b[0m\u001b[1;33m]\u001b[0m\u001b[1;33m==\u001b[0m\u001b[0mx\u001b[0m\u001b[1;33m[\u001b[0m\u001b[1;36m1\u001b[0m\u001b[1;33m]\u001b[0m\u001b[1;33m,\u001b[0m \u001b[0maxis\u001b[0m\u001b[1;33m=\u001b[0m\u001b[1;36m1\u001b[0m\u001b[1;33m)\u001b[0m\u001b[1;33m\u001b[0m\u001b[1;33m\u001b[0m\u001b[0m\n",
      "\u001b[1;32mc:\\program files\\python37\\lib\\site-packages\\pandas\\core\\frame.py\u001b[0m in \u001b[0;36m__setitem__\u001b[1;34m(self, key, value)\u001b[0m\n\u001b[0;32m   3470\u001b[0m         \u001b[1;32melse\u001b[0m\u001b[1;33m:\u001b[0m\u001b[1;33m\u001b[0m\u001b[1;33m\u001b[0m\u001b[0m\n\u001b[0;32m   3471\u001b[0m             \u001b[1;31m# set column\u001b[0m\u001b[1;33m\u001b[0m\u001b[1;33m\u001b[0m\u001b[1;33m\u001b[0m\u001b[0m\n\u001b[1;32m-> 3472\u001b[1;33m             \u001b[0mself\u001b[0m\u001b[1;33m.\u001b[0m\u001b[0m_set_item\u001b[0m\u001b[1;33m(\u001b[0m\u001b[0mkey\u001b[0m\u001b[1;33m,\u001b[0m \u001b[0mvalue\u001b[0m\u001b[1;33m)\u001b[0m\u001b[1;33m\u001b[0m\u001b[1;33m\u001b[0m\u001b[0m\n\u001b[0m\u001b[0;32m   3473\u001b[0m \u001b[1;33m\u001b[0m\u001b[0m\n\u001b[0;32m   3474\u001b[0m     \u001b[1;32mdef\u001b[0m \u001b[0m_setitem_slice\u001b[0m\u001b[1;33m(\u001b[0m\u001b[0mself\u001b[0m\u001b[1;33m,\u001b[0m \u001b[0mkey\u001b[0m\u001b[1;33m,\u001b[0m \u001b[0mvalue\u001b[0m\u001b[1;33m)\u001b[0m\u001b[1;33m:\u001b[0m\u001b[1;33m\u001b[0m\u001b[1;33m\u001b[0m\u001b[0m\n",
      "\u001b[1;32mc:\\program files\\python37\\lib\\site-packages\\pandas\\core\\frame.py\u001b[0m in \u001b[0;36m_set_item\u001b[1;34m(self, key, value)\u001b[0m\n\u001b[0;32m   3547\u001b[0m \u001b[1;33m\u001b[0m\u001b[0m\n\u001b[0;32m   3548\u001b[0m         \u001b[0mself\u001b[0m\u001b[1;33m.\u001b[0m\u001b[0m_ensure_valid_index\u001b[0m\u001b[1;33m(\u001b[0m\u001b[0mvalue\u001b[0m\u001b[1;33m)\u001b[0m\u001b[1;33m\u001b[0m\u001b[1;33m\u001b[0m\u001b[0m\n\u001b[1;32m-> 3549\u001b[1;33m         \u001b[0mvalue\u001b[0m \u001b[1;33m=\u001b[0m \u001b[0mself\u001b[0m\u001b[1;33m.\u001b[0m\u001b[0m_sanitize_column\u001b[0m\u001b[1;33m(\u001b[0m\u001b[0mkey\u001b[0m\u001b[1;33m,\u001b[0m \u001b[0mvalue\u001b[0m\u001b[1;33m)\u001b[0m\u001b[1;33m\u001b[0m\u001b[1;33m\u001b[0m\u001b[0m\n\u001b[0m\u001b[0;32m   3550\u001b[0m         \u001b[0mNDFrame\u001b[0m\u001b[1;33m.\u001b[0m\u001b[0m_set_item\u001b[0m\u001b[1;33m(\u001b[0m\u001b[0mself\u001b[0m\u001b[1;33m,\u001b[0m \u001b[0mkey\u001b[0m\u001b[1;33m,\u001b[0m \u001b[0mvalue\u001b[0m\u001b[1;33m)\u001b[0m\u001b[1;33m\u001b[0m\u001b[1;33m\u001b[0m\u001b[0m\n\u001b[0;32m   3551\u001b[0m \u001b[1;33m\u001b[0m\u001b[0m\n",
      "\u001b[1;32mc:\\program files\\python37\\lib\\site-packages\\pandas\\core\\frame.py\u001b[0m in \u001b[0;36m_sanitize_column\u001b[1;34m(self, key, value, broadcast)\u001b[0m\n\u001b[0;32m   3732\u001b[0m \u001b[1;33m\u001b[0m\u001b[0m\n\u001b[0;32m   3733\u001b[0m             \u001b[1;31m# turn me into an ndarray\u001b[0m\u001b[1;33m\u001b[0m\u001b[1;33m\u001b[0m\u001b[1;33m\u001b[0m\u001b[0m\n\u001b[1;32m-> 3734\u001b[1;33m             \u001b[0mvalue\u001b[0m \u001b[1;33m=\u001b[0m \u001b[0msanitize_index\u001b[0m\u001b[1;33m(\u001b[0m\u001b[0mvalue\u001b[0m\u001b[1;33m,\u001b[0m \u001b[0mself\u001b[0m\u001b[1;33m.\u001b[0m\u001b[0mindex\u001b[0m\u001b[1;33m,\u001b[0m \u001b[0mcopy\u001b[0m\u001b[1;33m=\u001b[0m\u001b[1;32mFalse\u001b[0m\u001b[1;33m)\u001b[0m\u001b[1;33m\u001b[0m\u001b[1;33m\u001b[0m\u001b[0m\n\u001b[0m\u001b[0;32m   3735\u001b[0m             \u001b[1;32mif\u001b[0m \u001b[1;32mnot\u001b[0m \u001b[0misinstance\u001b[0m\u001b[1;33m(\u001b[0m\u001b[0mvalue\u001b[0m\u001b[1;33m,\u001b[0m \u001b[1;33m(\u001b[0m\u001b[0mnp\u001b[0m\u001b[1;33m.\u001b[0m\u001b[0mndarray\u001b[0m\u001b[1;33m,\u001b[0m \u001b[0mIndex\u001b[0m\u001b[1;33m)\u001b[0m\u001b[1;33m)\u001b[0m\u001b[1;33m:\u001b[0m\u001b[1;33m\u001b[0m\u001b[1;33m\u001b[0m\u001b[0m\n\u001b[0;32m   3736\u001b[0m                 \u001b[1;32mif\u001b[0m \u001b[0misinstance\u001b[0m\u001b[1;33m(\u001b[0m\u001b[0mvalue\u001b[0m\u001b[1;33m,\u001b[0m \u001b[0mlist\u001b[0m\u001b[1;33m)\u001b[0m \u001b[1;32mand\u001b[0m \u001b[0mlen\u001b[0m\u001b[1;33m(\u001b[0m\u001b[0mvalue\u001b[0m\u001b[1;33m)\u001b[0m \u001b[1;33m>\u001b[0m \u001b[1;36m0\u001b[0m\u001b[1;33m:\u001b[0m\u001b[1;33m\u001b[0m\u001b[1;33m\u001b[0m\u001b[0m\n",
      "\u001b[1;32mc:\\program files\\python37\\lib\\site-packages\\pandas\\core\\internals\\construction.py\u001b[0m in \u001b[0;36msanitize_index\u001b[1;34m(data, index, copy)\u001b[0m\n\u001b[0;32m    610\u001b[0m \u001b[1;33m\u001b[0m\u001b[0m\n\u001b[0;32m    611\u001b[0m     \u001b[1;32mif\u001b[0m \u001b[0mlen\u001b[0m\u001b[1;33m(\u001b[0m\u001b[0mdata\u001b[0m\u001b[1;33m)\u001b[0m \u001b[1;33m!=\u001b[0m \u001b[0mlen\u001b[0m\u001b[1;33m(\u001b[0m\u001b[0mindex\u001b[0m\u001b[1;33m)\u001b[0m\u001b[1;33m:\u001b[0m\u001b[1;33m\u001b[0m\u001b[1;33m\u001b[0m\u001b[0m\n\u001b[1;32m--> 612\u001b[1;33m         \u001b[1;32mraise\u001b[0m \u001b[0mValueError\u001b[0m\u001b[1;33m(\u001b[0m\u001b[1;34m\"Length of values does not match length of index\"\u001b[0m\u001b[1;33m)\u001b[0m\u001b[1;33m\u001b[0m\u001b[1;33m\u001b[0m\u001b[0m\n\u001b[0m\u001b[0;32m    613\u001b[0m \u001b[1;33m\u001b[0m\u001b[0m\n\u001b[0;32m    614\u001b[0m     \u001b[1;32mif\u001b[0m \u001b[0misinstance\u001b[0m\u001b[1;33m(\u001b[0m\u001b[0mdata\u001b[0m\u001b[1;33m,\u001b[0m \u001b[0mABCIndexClass\u001b[0m\u001b[1;33m)\u001b[0m \u001b[1;32mand\u001b[0m \u001b[1;32mnot\u001b[0m \u001b[0mcopy\u001b[0m\u001b[1;33m:\u001b[0m\u001b[1;33m\u001b[0m\u001b[1;33m\u001b[0m\u001b[0m\n",
      "\u001b[1;31mValueError\u001b[0m: Length of values does not match length of index"
     ]
    }
   ],
   "source": [
    "df_out['PRED_INSTR_PREDIKT'] = work_predikt\n",
    "df_out['LM_predict_proba'] = LM_predict_proba\n",
    "df_out['LM_vern_otv'] = LM_vern_otv\n",
    "df_out['NAIM_INSTR_PREDIKT'] = df_out.loc[:,'PRED_INSTR_PREDIKT'].apply(lambda pred: naim_inst_dikt[pred])\n",
    "df_out['False'] = df_out.loc[:,['PRED_INSTR','PRED_INSTR_PREDIKT']].apply(lambda x: x[0]==x[1], axis=1)\n",
    "df_out[(df_out['False'] == False)]"
   ]
  },
  {
   "cell_type": "code",
   "execution_count": null,
   "metadata": {},
   "outputs": [],
   "source": [
    "1 - df_out[(df_out['False'] == False)].shape[0] / df_out.shape[0]"
   ]
  },
  {
   "cell_type": "markdown",
   "metadata": {},
   "source": [
    "## Подготовка данных"
   ]
  },
  {
   "cell_type": "markdown",
   "metadata": {},
   "source": [
    "## Предсказание"
   ]
  },
  {
   "cell_type": "markdown",
   "metadata": {},
   "source": [
    "## Подгоотвка выходных данных"
   ]
  },
  {
   "cell_type": "markdown",
   "metadata": {},
   "source": [
    "## Сохранение результата"
   ]
  },
  {
   "cell_type": "code",
   "execution_count": null,
   "metadata": {},
   "outputs": [],
   "source": [
    "df_out.to_excel('Поиск аналогов predict.xlsx', index = False)"
   ]
  },
  {
   "cell_type": "code",
   "execution_count": null,
   "metadata": {},
   "outputs": [],
   "source": []
  },
  {
   "cell_type": "code",
   "execution_count": null,
   "metadata": {},
   "outputs": [],
   "source": []
  }
 ],
 "metadata": {
  "kernelspec": {
   "display_name": "Python 3",
   "language": "python",
   "name": "python3"
  },
  "language_info": {
   "codemirror_mode": {
    "name": "ipython",
    "version": 3
   },
   "file_extension": ".py",
   "mimetype": "text/x-python",
   "name": "python",
   "nbconvert_exporter": "python",
   "pygments_lexer": "ipython3",
   "version": "3.7.4"
  },
  "toc": {
   "base_numbering": 1,
   "nav_menu": {},
   "number_sections": true,
   "sideBar": true,
   "skip_h1_title": true,
   "title_cell": "Table of Contents",
   "title_sidebar": "Contents",
   "toc_cell": true,
   "toc_position": {},
   "toc_section_display": true,
   "toc_window_display": false
  }
 },
 "nbformat": 4,
 "nbformat_minor": 2
}
